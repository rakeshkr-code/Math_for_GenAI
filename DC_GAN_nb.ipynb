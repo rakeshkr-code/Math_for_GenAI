{
 "cells": [
  {
   "cell_type": "code",
   "execution_count": null,
   "id": "686ecfca",
   "metadata": {},
   "outputs": [],
   "source": [
    "import torch\n",
    "import torch.nn as nn\n",
    "import torch.optim as optim\n",
    "from torchvision import datasets, transforms\n",
    "# import torchvision.transforms as transforms\n",
    "from torchvision.utils import save_image, make_grid\n",
    "import torchvision\n",
    "import os\n",
    "from torch.utils.data import DataLoader\n",
    "import matplotlib.pyplot as plt\n"
   ]
  },
  {
   "cell_type": "code",
   "execution_count": null,
   "id": "2706b9db",
   "metadata": {},
   "outputs": [],
   "source": [
    "# Hyperparameters\n",
    "batch_size = 128\n",
    "z_dim = 100\n",
    "image_size = 28\n",
    "channels = 1\n",
    "epochs = 50\n",
    "lr = 0.0002\n",
    "beta1 = 0.5 # Adam optimizer beta1\n",
    "# beta2 = 0.999\n",
    "\n",
    "# Device\n",
    "device = torch.device(\"cuda\" if torch.cuda.is_available() else \"cpu\")\n",
    "print(f\"Devide : {device}\")\n",
    "\n",
    "# Create output folder\n",
    "# if not os.path.exists(\"generated_imgs\"):\n",
    "os.makedirs(\"generated_imgs\", exist_ok=True)"
   ]
  },
  {
   "cell_type": "code",
   "execution_count": null,
   "id": "0ca42dc4",
   "metadata": {},
   "outputs": [],
   "source": [
    "# Transform: Normalize images between [-1, 1] (because Tanh will be used as output)\n",
    "transform = transforms.Compose([\n",
    "    transforms.Resize(image_size),\n",
    "    transforms.ToTensor(),\n",
    "    transforms.Normalize((0.5,), (0.5,))    # Normalize between [-1, 1]\n",
    "])\n",
    "\n",
    "# Load MNIST\n",
    "train_dataset = torchvision.datasets.MNIST(root='./data', train=True, download=True, transform=transform)\n",
    "test_dataset = torchvision.datasets.MNIST(root='./data', train=False, download=True, transform=transform)"
   ]
  },
  {
   "cell_type": "code",
   "execution_count": null,
   "id": "924561ee",
   "metadata": {},
   "outputs": [],
   "source": [
    "# DataLoader\n",
    "train_loader = DataLoader(train_dataset, batch_size=batch_size, shuffle=True)\n",
    "# test_loader = DataLoader(test_dataset, batch_size=batch_size, shuffle=False)"
   ]
  },
  {
   "cell_type": "code",
   "execution_count": null,
   "id": "735bdfe7",
   "metadata": {},
   "outputs": [],
   "source": [
    "class Generator(nn.Module):\n",
    "    def __init__(self, z_dim):\n",
    "        super(Generator, self).__init__()\n",
    "        self.net = nn.Sequential(\n",
    "            # Input: (N, z_dim, 1, 1)\n",
    "            nn.ConvTranspose2d(z_dim, 256, kernel_size=7, stride=1, padding=0, bias=False),\n",
    "            nn.BatchNorm2d(256),\n",
    "            nn.ReLU(inplace=True),\n",
    "\n",
    "            nn.ConvTranspose2d(256, 128, kernel_size=4, stride=2, padding=1, bias=False),\n",
    "            nn.BatchNorm2d(128),\n",
    "            nn.ReLU(inplace=True),\n",
    "\n",
    "            nn.ConvTranspose2d(128, 1, kernel_size=4, stride=2, padding=1, bias=False),\n",
    "            nn.Tanh(),\n",
    "        )\n",
    "    def forward(self, z):\n",
    "        return self.net(z)"
   ]
  },
  {
   "cell_type": "code",
   "execution_count": null,
   "id": "c7e8ea67",
   "metadata": {},
   "outputs": [],
   "source": [
    "class Discriminator(nn.Module):\n",
    "    def __init__(self):\n",
    "        super(Discriminator, self).__init__()\n",
    "        self.net = nn.Sequential(\n",
    "            # Input: (N, 1, 28, 28)\n",
    "            nn.Conv2d(1, 64, kernel_size=4, stride=2, padding=1, bias=False),\n",
    "            nn.LeakyReLU(0.2, inplace=True),\n",
    "\n",
    "            nn.Conv2d(64, 128, kernel_size=4, stride=2, padding=1, bias=False),\n",
    "            nn.BatchNorm2d(128),\n",
    "            nn.LeakyReLU(0.2, inplace=True),\n",
    "\n",
    "            nn.Flatten(),\n",
    "            nn.Linear(128 * 7 * 7, 1),\n",
    "            nn.Sigmoid()\n",
    "        )\n",
    "    def forward(self, img):\n",
    "        return self.net(img)"
   ]
  },
  {
   "cell_type": "code",
   "execution_count": null,
   "id": "58a14d11",
   "metadata": {},
   "outputs": [],
   "source": [
    "# Models\n",
    "generator = Generator(z_dim).to(device)\n",
    "discriminator = Discriminator().to(device)\n",
    "\n",
    "# Optimizers\n",
    "optimizer_G = optim.Adam(generator.parameters(), lr=lr, betas=(beta1, 0.999))\n",
    "optimizer_D = optim.Adam(discriminator.parameters(), lr=lr, betas=(beta1, 0.999))\n",
    "\n",
    "# Loss - Binary Cross Entropy Loss\n",
    "criterion = nn.BCELoss()"
   ]
  },
  {
   "cell_type": "code",
   "execution_count": null,
   "id": "cb6bf4d4",
   "metadata": {},
   "outputs": [],
   "source": [
    "def generate_and_save_images(epoch):\n",
    "    generator.eval()\n",
    "    with torch.no_grad():\n",
    "        z = torch.randn(64, z_dim, 1, 1).to(device)\n",
    "        fake_images = generator(z)\n",
    "        fake_images = fake_images * 0.5 + 0.5  # Denormalize to [0,1]\n",
    "        save_image(fake_images, f\"generated_imgs/sample_epoch_{epoch}.png\", nrow=8)\n",
    "    generator.train()"
   ]
  },
  {
   "cell_type": "code",
   "execution_count": null,
   "id": "88f89a69",
   "metadata": {},
   "outputs": [],
   "source": [
    "k = 3   # Generator updates per iteration\n",
    "p = 1   # Discriminator updates per iterations"
   ]
  },
  {
   "cell_type": "code",
   "execution_count": null,
   "id": "e546a185",
   "metadata": {},
   "outputs": [],
   "source": [
    "# Training Loop\n",
    "batch_size_curr = batch_size\n",
    "for epoch in range(1, epochs+1):\n",
    "    for i, (real_imgs, _) in enumerate(train_loader):\n",
    "        batch_size = real_imgs.size(0)\n",
    "        real_imgs = real_imgs.to(device)\n",
    "        \n",
    "        real = torch.ones(batch_size_curr, 1, device=device)\n",
    "        fake = torch.zeros(batch_size_curr, 1, device=device)\n",
    "\n",
    "        ### ----- Train Discriminator p times ----- ###\n",
    "        for underscore in range(p):\n",
    "            z = torch.randn(batch_size_curr, z_dim, 1, 1, device=device)\n",
    "            fake_imgs = generator(z)\n",
    "\n",
    "            # Real\n",
    "            real_validity = discriminator(real_imgs)\n",
    "            d_real_loss = criterion(real_validity, real)\n",
    "\n",
    "            # Fake\n",
    "            fake_validity = discriminator(fake_imgs.detach())\n",
    "            d_fake_loss = criterion(fake_validity, fake)\n",
    "\n",
    "            d_loss = d_real_loss + d_fake_loss\n",
    "            \n",
    "            optimizer_D.zero_grad()\n",
    "            d_loss.backward()\n",
    "            optimizer_D.step()\n",
    "        ### ----- Train Generator k times ----- ###\n",
    "        for _ in range(k):\n",
    "            z = torch.randn(batch_size_curr, z_dim, 1, 1, device=device)\n",
    "            fake_imgs = generator(z)\n",
    "\n",
    "            validity = discriminator(fake_imgs)\n",
    "            g_loss = criterion(validity, real)  # fool D -> label as real\n",
    "\n",
    "            optimizer_G.zero_grad()\n",
    "            g_loss.backward()\n",
    "            optimizer_G.step()\n",
    "        if i % 200 == 0:\n",
    "            print(f\"Epoch [{epoch}/{epochs}], Step or Batch [{i}/{len(train_loader)}], \"\n",
    "                    f\"D_loss: {d_loss.item():.4f} | G_loss: {g_loss.item():.4f}\")\n",
    "    # Save sample images\n",
    "    generator.eval()\n",
    "    with torch.no_grad():\n",
    "        z = torch.randn(64, z_dim, 1, 1).to(device)\n",
    "        samples = generator(z)\n",
    "        samples = samples * 0.5 + 0.5  # Denormalize to [0,1]\n",
    "        save_image(samples, f\"generated_imgs/epoch_{epoch}.png\", nrow=8)\n",
    "    generator.train()"
   ]
  }
 ],
 "metadata": {
  "kernelspec": {
   "display_name": "base",
   "language": "python",
   "name": "python3"
  },
  "language_info": {
   "name": "python",
   "version": "3.12.9"
  }
 },
 "nbformat": 4,
 "nbformat_minor": 5
}

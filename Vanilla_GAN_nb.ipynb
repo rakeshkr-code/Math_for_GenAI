{
  "cells": [
    {
      "cell_type": "markdown",
      "metadata": {},
      "source": [
        "**Credit:** \n",
        "\n",
        "This notebook is for practice and taken from Mathematical foundation for Generative AI course, IITM BS \n",
        "\n",
        "Original Tutorial Link: [W2T5: Tutorial: Implementation of GAN](https://www.youtube.com/watch?v=iOb8vmlJd8o&t=1833s) \n"
      ]
    },
    {
      "cell_type": "code",
      "execution_count": null,
      "metadata": {
        "id": "p8kjVKoDthhv"
      },
      "outputs": [],
      "source": [
        "import torch\n",
        "import torch.nn as nn\n",
        "import torch.optim as optim\n",
        "import torchvision\n",
        "import torchvision.transforms as transforms\n",
        "from torch.utils.data import DataLoader\n",
        "import matplotlib.pyplot as plt\n",
        "\n",
        "# Device\n",
        "device = torch.device(\"cuda\" if torch.cuda.is_available() else \"cpu\")\n",
        "print(device)"
      ]
    },
    {
      "cell_type": "code",
      "execution_count": null,
      "metadata": {
        "id": "oNsOrVYewFgj"
      },
      "outputs": [],
      "source": [
        "# Transform: Normalize images between [-1, 1] (because Tanh will be used as output)\n",
        "transform = transforms.Compose([\n",
        "    transforms.ToTensor(),\n",
        "    transforms.Normalize((0.5,), (0.5,))\n",
        "])\n",
        "\n",
        "# Load MNIST\n",
        "train_dataset = torchvision.datasets.MNIST(root='./data', train=True, download=True, transform=transform)\n",
        "test_dataset = torchvision.datasets.MNIST(root='./data', train=False, download=True, transform=transform)"
      ]
    },
    {
      "cell_type": "code",
      "execution_count": null,
      "metadata": {},
      "outputs": [],
      "source": [
        "# DataLoader\n",
        "batch_size = 64\n",
        "train_loader = DataLoader(train_dataset, batch_size=batch_size, shuffle=True)\n",
        "test_loader = DataLoader(test_dataset, batch_size=batch_size, shuffle=False)"
      ]
    },
    {
      "cell_type": "code",
      "execution_count": null,
      "metadata": {
        "id": "xcAAtxsgzZ0g"
      },
      "outputs": [],
      "source": [
        "class Generator(nn.Module):\n",
        "    def __init__(self, noise_dim=100, out_img_dim=784):\n",
        "        super(Generator, self).__init__()\n",
        "        self.model = nn.Sequential(\n",
        "            nn.Linear(noise_dim, 256),\n",
        "            nn.ReLU(True),\n",
        "            nn.Linear(256, 512),\n",
        "            nn.ReLU(True),\n",
        "            nn.Linear(512, 1024),\n",
        "            nn.ReLU(True),\n",
        "            nn.Linear(1024, out_img_dim),\n",
        "            nn.Tanh()   # Because we normalize images [-1, 1]\n",
        "        )\n",
        "    def forward(self, z):\n",
        "        return self.model(z)"
      ]
    },
    {
      "cell_type": "code",
      "execution_count": null,
      "metadata": {
        "id": "rN6u3tlq6Y23"
      },
      "outputs": [],
      "source": [
        "class Discriminator(nn.Module):\n",
        "    def __init__(self, in_img_dim=784):\n",
        "        super(Discriminator, self).__init__()\n",
        "        self.model = nn.Sequential(\n",
        "            nn.Linear(in_img_dim, 512),\n",
        "            nn.LeakyReLU(0.2, inplace=True),\n",
        "            nn.Linear(512, 256),\n",
        "            nn.LeakyReLU(0.2, inplace=True),\n",
        "            nn.Linear(256, 1),\n",
        "            nn.Sigmoid()    # Outputs probability between 0 and 1\n",
        "        )\n",
        "    def forward(self, img):\n",
        "        return self.model(img)"
      ]
    },
    {
      "cell_type": "code",
      "execution_count": null,
      "metadata": {
        "id": "kxCRtq_HCxeT"
      },
      "outputs": [],
      "source": [
        "noise_dim = 100\n",
        "img_dim = 28 * 28\n",
        "\n",
        "# Models\n",
        "generator = Generator(noise_dim, img_dim).to(device)\n",
        "discriminator = Discriminator(img_dim).to(device)\n",
        "\n",
        "# Optimizers\n",
        "g_optimizer = optim.Adam(generator.parameters(), lr=0.0002)\n",
        "d_optimizer = optim.Adam(discriminator.parameters(), lr=0.0002)\n",
        "\n",
        "# Loss\n",
        "criterion = nn.BCELoss()"
      ]
    },
    {
      "cell_type": "code",
      "execution_count": null,
      "metadata": {
        "id": "fUwFbxPs9o79"
      },
      "outputs": [],
      "source": [
        "def show_generated_images(epoch, generator, fixed_noise):\n",
        "    generator.eval()\n",
        "    with torch.no_grad():\n",
        "        fake_imgs = generator(fixed_noise).reshape(-1, 1, 28, 28)\n",
        "        fake_imgs = fake_imgs * 0.5 + 0.5   # de normalize\n",
        "    grid = torchvision.utils.make_grid(fake_imgs, nrow=8)\n",
        "    plt.figure(figsize=(8, 8))\n",
        "    plt.imshow(grid.permute(1, 2, 0).cpu().numpy())\n",
        "    plt.axis('off')\n",
        "    plt.show()\n",
        "    generator.train()"
      ]
    },
    {
      "cell_type": "code",
      "execution_count": null,
      "metadata": {
        "id": "_gyrmc0LD5wu"
      },
      "outputs": [],
      "source": [
        "def train_gan(train_loader, num_epochs, mode=\"one_one\"):\n",
        "    fixed_noise = torch.randn(64, noise_dim).to(device) # for consistence viz\n",
        "    for epoch in range(num_epochs):\n",
        "        for batch_idx, (real, _) in enumerate(train_loader):\n",
        "            batch_size = real.size(0)\n",
        "            real = real.view(batch_size, -1).to(device)\n",
        "            # Create real and fake labels\n",
        "            real_labels = torch.ones(batch_size, 1).to(device)\n",
        "            fake_labels = torch.zeros(batch_size, 1).to(device)\n",
        "\n",
        "            # ------------------------------- #\n",
        "            # ----- Train Discriminator ----- #\n",
        "            # ------------------------------- #\n",
        "            \n",
        "            # Real images\n",
        "            outputs = discriminator(real)\n",
        "            d_loss_real = criterion(outputs, real_labels)\n",
        "            real_score = outputs\n",
        "\n",
        "            # Fake images\n",
        "            z = torch.randn(batch_size, noise_dim).to(device)\n",
        "            fake = generator(z)\n",
        "            outputs = discriminator(fake.detach())  # detach so gradient doesn't flow into generator\n",
        "            d_loss_fake = criterion(outputs, fake_labels)\n",
        "            fake_score = outputs\n",
        "\n",
        "            # Total discriminator loss \n",
        "            d_loss = d_loss_real + d_loss_fake\n",
        "\n",
        "            # Update discriminator\n",
        "            discriminator.zero_grad()\n",
        "            d_loss.backward()\n",
        "            d_optimizer.step()\n",
        "\n",
        "            # ------------------------------- #\n",
        "            # ------- Train Generator ------- #\n",
        "            # ------------------------------- #\n",
        "            \n",
        "            # Generate fake images again\n",
        "            z = torch.randn(batch_size, noise_dim).to(device)\n",
        "            fake = generator(z)\n",
        "            outputs = discriminator(fake)\n",
        "            \n",
        "            g_loss = criterion(outputs, real_labels)    # Trick discriminator\n",
        "\n",
        "            # Update generator\n",
        "            generator.zero_grad()\n",
        "            g_loss.backward()\n",
        "            g_optimizer.step()\n",
        "\n",
        "            # ---------------------------------------- #\n",
        "            # ------- Modify according to mode ------- #\n",
        "            # ---------------------------------------- #\n",
        "            if mode==\"five_gen_one_disc\":\n",
        "                for _ in range(4):  # already did one step above\n",
        "                    # Generate fake images again\n",
        "                    z = torch.randn(batch_size, noise_dim).to(device)\n",
        "                    fake = generator(z)\n",
        "                    outputs = discriminator(fake)\n",
        "                    g_loss = criterion(outputs, real_labels)    # Trick discriminator\n",
        "                    generator.zero_grad()\n",
        "                    g_loss.backward()\n",
        "                    g_optimizer.step()\n",
        "            if mode==\"five_disc_one_gen\":\n",
        "                for _ in range(4):  # already did one step above\n",
        "                    # Real\n",
        "                    outputs = discriminator(real)\n",
        "                    d_loss_real = criterion(outputs, real_labels)\n",
        "                    real_score = outputs\n",
        "\n",
        "                    # Fake\n",
        "                    z = torch.randn(batch_size, noise_dim).to(device)\n",
        "                    fake = generator(z)\n",
        "                    outputs = discriminator(fake.detach())\n",
        "                    d_loss_fake = criterion(outputs, fake_labels)\n",
        "                    # fake_score = outputs\n",
        "\n",
        "                    # Total\n",
        "                    d_loss = d_loss_real + d_loss_fake\n",
        "                    discriminator.zero_grad()\n",
        "                    d_loss.backward()\n",
        "                    d_optimizer.step()\n",
        "        if (epoch+1) % 10 == 0:\n",
        "            print(f\"Epoch [{epoch+1}/{num_epochs}], Discriminator Loss: {d_loss.item():.4f}, Generator Loss: {g_loss.item():.4f}\")\n",
        "            show_generated_images(epoch, generator, fixed_noise)"
      ]
    },
    {
      "cell_type": "code",
      "execution_count": null,
      "metadata": {
        "id": "pP4JvgS8ECrH"
      },
      "outputs": [],
      "source": [
        "# 1. Standard: One step generator, One step discriminator\n",
        "print(\"Training: One step gen, One step dis\")\n",
        "train_gan(train_loader, num_epochs=50, mode=\"one_one\")\n",
        "\n",
        "# 2. 5 generator steps, 1 discriminator steps\n",
        "print(\"Training: One step gen, One step dis\")\n",
        "train_gan(train_loader, num_epochs=50, mode=\"five_gen_one_disc\")\n",
        "\n",
        "# 3. 5 discriminator step, 1 generator step\n",
        "print(\"Training: One step gen, One step dis\")\n",
        "train_gan(train_loader, num_epochs=50, mode=\"five_disc_one_gen\")"
      ]
    }
  ],
  "metadata": {
    "accelerator": "GPU",
    "colab": {
      "gpuType": "T4",
      "provenance": []
    },
    "kernelspec": {
      "display_name": "Python 3",
      "name": "python3"
    },
    "language_info": {
      "name": "python"
    }
  },
  "nbformat": 4,
  "nbformat_minor": 0
}

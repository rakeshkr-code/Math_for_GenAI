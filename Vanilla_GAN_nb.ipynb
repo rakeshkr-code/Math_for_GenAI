{
  "cells": [
    {
      "cell_type": "markdown",
      "metadata": {},
      "source": [
        "**Credit:** \n",
        "\n",
        "This notebook is for practice and taken from Mathematical foundation for Generative AI course, IITM BS \n",
        "\n",
        "Original Tutorial Link: [W2T5: Tutorial: Implementation of GAN](https://www.youtube.com/watch?v=iOb8vmlJd8o&t=1833s) \n"
      ]
    },
    {
      "cell_type": "code",
      "execution_count": null,
      "metadata": {
        "id": "p8kjVKoDthhv"
      },
      "outputs": [],
      "source": [
        "import torch\n",
        "import torch.nn as nn\n",
        "import torch.optim as optim\n",
        "import torchvision\n",
        "import torchvision.transforms as transforms\n",
        "from torch.utils.data import DataLoader\n",
        "\n",
        "# Device\n",
        "device = torch.device(\"cuda\" if torch.cuda.is_available() else \"cpu\")\n",
        "print(device)"
      ]
    },
    {
      "cell_type": "code",
      "execution_count": null,
      "metadata": {
        "id": "oNsOrVYewFgj"
      },
      "outputs": [],
      "source": [
        "# Transform: Normalize images between [-1, 1] (because Tanh will be used as output)\n",
        "transform = transforms.Compose([\n",
        "    transforms.ToTensor(),\n",
        "    transforms.Normalize((0.5,), (0.5,))\n",
        "])\n",
        "\n",
        "# Load MNIST\n",
        "train_dataset = torchvision.datasets.MNIST(root='./data', train=True, download=True, transform=transform)\n",
        "test_dataset = torchvision.datasets.MNIST(root='./data', train=False, download=True, transform=transform)"
      ]
    },
    {
      "cell_type": "code",
      "execution_count": null,
      "metadata": {
        "id": "xcAAtxsgzZ0g"
      },
      "outputs": [],
      "source": [
        "class Generator(nn.Module):\n",
        "    def __init__(self, noise_dim=100, out_img_dim=784):\n",
        "        super(Generator, self).__init__()\n",
        "        self.model = nn.Sequential(\n",
        "            nn.Linear(noise_dim, 256),\n",
        "            nn.Relu(True),\n",
        "            nn.Linear(256, 512),\n",
        "            nn.Relu(True),\n",
        "            nn.Linear(512, 1024),\n",
        "            nn.Relu(True),\n",
        "            nn.Linear(1024, out_img_dim),\n",
        "            nn.Tanh()   # Because we normalize images [-1, 1]\n",
        "        )\n",
        "    def forward(self, z):\n",
        "        return self.model(z)"
      ]
    },
    {
      "cell_type": "code",
      "execution_count": null,
      "metadata": {
        "id": "rN6u3tlq6Y23"
      },
      "outputs": [],
      "source": [
        "class Discriminator(nn.Module):\n",
        "    def __init__(self, in_img_dim=784):\n",
        "        super(Discriminator, self).__init__()\n",
        "        self.model = nn.Sequential(\n",
        "            nn.Linear(in_img_dim, 512),\n",
        "            nn.LeakyRelu(0.2, inplace=True),\n",
        "            nn.Linear(512, 256),\n",
        "            nn.LeakyRelu(0.2, inplace=True),\n",
        "            nn.Linear(256, 1),\n",
        "            nn.Sigmoid()    # Outputs probability between 0 and 1\n",
        "        )\n",
        "    def forward(self, img):\n",
        "        return self.model(img)"
      ]
    },
    {
      "cell_type": "code",
      "execution_count": null,
      "metadata": {
        "id": "kxCRtq_HCxeT"
      },
      "outputs": [],
      "source": [
        "noise_dim = 100\n",
        "img_dim = 28 * 28\n",
        "\n",
        "# Models\n",
        "generator = Generator(noise_dim, img_dim).to(device)\n",
        "discriminator = Discriminator(img_dim).to(device)\n",
        "\n",
        "# Optimizers\n",
        "g_optimizer = optim.Adam(generator.parameters(), lr=0.0002)\n",
        "d_optimizer = optim.Adam(discriminator.parameters(), lr=0.0002)\n",
        "\n",
        "# Loss\n",
        "criterion = nn.BCELoss()"
      ]
    },
    {
      "cell_type": "code",
      "execution_count": null,
      "metadata": {
        "id": "fUwFbxPs9o79"
      },
      "outputs": [],
      "source": [
        "def show_generated_images(epoch, generator, fixed_noise):\n",
        "    generator.eval()\n",
        "    with torch.no_grad():\n",
        "        fake_imgs = generator(fixed_noise).reshape(-1, 1, 28, 28)\n",
        "        fake_imgs = fake_imgs * 0.5 + 0.5   # de normalize\n",
        "    grid = torchvision.utils.make_grid(fake_imgs, nrow=8)\n",
        "    plt.figure(figsize=(8, 8))\n",
        "    plt.imshow(grid.permute(1, 2, 0).cpu().numpy())\n",
        "    plt.axis('off')\n",
        "    plt.show()\n",
        "    generator.train()"
      ]
    },
    {
      "cell_type": "code",
      "execution_count": null,
      "metadata": {
        "id": "_gyrmc0LD5wu"
      },
      "outputs": [],
      "source": []
    },
    {
      "cell_type": "code",
      "execution_count": null,
      "metadata": {
        "id": "pP4JvgS8ECrH"
      },
      "outputs": [],
      "source": [
        "# 1. Standard: One step generator, One step discriminator\n",
        "print(\"Training: One step gen, One step dis\")\n",
        "train_gan(train_loader, num_epochs=50, mode=\"one_one\")\n",
        "\n",
        "# 2."
      ]
    }
  ],
  "metadata": {
    "accelerator": "GPU",
    "colab": {
      "gpuType": "T4",
      "provenance": []
    },
    "kernelspec": {
      "display_name": "Python 3",
      "name": "python3"
    },
    "language_info": {
      "name": "python"
    }
  },
  "nbformat": 4,
  "nbformat_minor": 0
}

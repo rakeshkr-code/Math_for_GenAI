{
  "nbformat": 4,
  "nbformat_minor": 0,
  "metadata": {
    "colab": {
      "provenance": [],
      "gpuType": "T4"
    },
    "kernelspec": {
      "name": "python3",
      "display_name": "Python 3"
    },
    "language_info": {
      "name": "python"
    },
    "accelerator": "GPU"
  },
  "cells": [
    {
      "cell_type": "code",
      "source": [
        "import torch\n",
        "import torch.nn as nn\n",
        "import torch.optim as optim\n",
        "from torchvision import datasets, transforms\n",
        "from torchvision.utils import save_image\n",
        "from torch.utils.data import DataLoader\n",
        "import os"
      ],
      "metadata": {
        "id": "vvg7KeT0u9zv"
      },
      "execution_count": 1,
      "outputs": []
    },
    {
      "cell_type": "code",
      "source": [
        "# Setup\n",
        "# ----------------------------\n",
        "device = torch.device(\"cuda\" if torch.cuda.is_available() else \"cpu\")\n",
        "\n",
        "z_dim = 100\n",
        "batch_size = 128\n",
        "epochs = 20\n",
        "lr = 5e-4\n",
        "n_critic = 1\n",
        "clip_value = 0.01\n",
        "img_size = 28\n",
        "channels = 1\n",
        "img_shape = (channels, img_size, img_size)\n",
        "\n",
        "os.makedirs(\"wgan_dcgan\", exist_ok=True)"
      ],
      "metadata": {
        "id": "4DrqvB6tu9sd"
      },
      "execution_count": 2,
      "outputs": []
    },
    {
      "cell_type": "code",
      "source": [
        "# Data Loader\n",
        "# ----------------------------\n",
        "transform = transforms.Compose([\n",
        "    transforms.Resize(img_size),\n",
        "    transforms.ToTensor(),\n",
        "    transforms.Normalize([0.5], [0.5])  # Rescale to [-1, 1]\n",
        "])\n",
        "\n",
        "dataloader = DataLoader(\n",
        "    datasets.MNIST('.', train=True, download=True, transform=transform),\n",
        "    batch_size=batch_size,\n",
        "    shuffle=True\n",
        ")"
      ],
      "metadata": {
        "colab": {
          "base_uri": "https://localhost:8080/"
        },
        "id": "pv3wibAju9lm",
        "outputId": "bc13ba31-c477-4a6b-e161-a1870982da1e"
      },
      "execution_count": 3,
      "outputs": [
        {
          "output_type": "stream",
          "name": "stderr",
          "text": [
            "100%|██████████| 9.91M/9.91M [00:01<00:00, 5.06MB/s]\n",
            "100%|██████████| 28.9k/28.9k [00:00<00:00, 133kB/s]\n",
            "100%|██████████| 1.65M/1.65M [00:01<00:00, 1.26MB/s]\n",
            "100%|██████████| 4.54k/4.54k [00:00<00:00, 9.98MB/s]\n"
          ]
        }
      ]
    },
    {
      "cell_type": "code",
      "source": [
        "# Generator\n",
        "# ----------------------------\n",
        "class Generator(nn.Module):\n",
        "    def __init__(self):\n",
        "        super().__init__()\n",
        "        self.init_size = img_size // 4  # 7x7\n",
        "        self.fc = nn.Linear(z_dim, 128 * self.init_size * self.init_size)\n",
        "        self.conv_blocks = nn.Sequential(\n",
        "            nn.BatchNorm2d(128),\n",
        "            nn.ConvTranspose2d(128, 64, 4, stride=2, padding=1),  # 7→14\n",
        "            nn.BatchNorm2d(64),\n",
        "            nn.ReLU(True),\n",
        "            nn.ConvTranspose2d(64, 1, 4, stride=2, padding=1),    # 14→28\n",
        "            nn.Tanh()\n",
        "        )\n",
        "\n",
        "    def forward(self, z):\n",
        "        x = self.fc(z)\n",
        "        x = x.view(z.size(0), 128, self.init_size, self.init_size)\n",
        "        return self.conv_blocks(x)"
      ],
      "metadata": {
        "id": "5yqDv7D-u9iA"
      },
      "execution_count": 4,
      "outputs": []
    },
    {
      "cell_type": "code",
      "source": [
        "# Critic\n",
        "# ----------------------------\n",
        "class Critic(nn.Module):\n",
        "    def __init__(self):\n",
        "        super().__init__()\n",
        "        self.model = nn.Sequential(\n",
        "            nn.Conv2d(1, 64, 4, stride=2, padding=1),  # 28→14\n",
        "            nn.LeakyReLU(0.2),\n",
        "            nn.Conv2d(64, 128, 4, stride=2, padding=1),  # 14→7\n",
        "            nn.BatchNorm2d(128),\n",
        "            nn.LeakyReLU(0.2),\n",
        "            nn.Flatten(),\n",
        "            nn.Linear(128 * 7 * 7, 1)  # Output is a raw score\n",
        "        )\n",
        "\n",
        "    def forward(self, x):\n",
        "        return self.model(x)"
      ],
      "metadata": {
        "id": "mSjtX2mwu9PH"
      },
      "execution_count": 5,
      "outputs": []
    },
    {
      "cell_type": "code",
      "source": [
        "# Initialize Models and Optimizers\n",
        "# ----------------------------\n",
        "generator = Generator().to(device)\n",
        "critic = Critic().to(device)\n",
        "\n",
        "optimizer_G = optim.RMSprop(generator.parameters(), lr=lr)\n",
        "optimizer_C = optim.RMSprop(critic.parameters(), lr=lr)"
      ],
      "metadata": {
        "id": "sDpWNseWu9ME"
      },
      "execution_count": 6,
      "outputs": []
    },
    {
      "cell_type": "code",
      "source": [
        "# Training Loop\n",
        "# ----------------------------\n",
        "for epoch in range(1, epochs + 1):\n",
        "    for i, (real_imgs, _) in enumerate(dataloader):\n",
        "\n",
        "        real_imgs = real_imgs.to(device)\n",
        "        b_size = real_imgs.size(0)\n",
        "\n",
        "        # === Train Critic === #\n",
        "        for _ in range(n_critic):\n",
        "            z = torch.randn(b_size, z_dim, device=device)\n",
        "            fake_imgs = generator(z).detach()\n",
        "\n",
        "            loss_C = -torch.mean(critic(real_imgs)) + torch.mean(critic(fake_imgs))\n",
        "\n",
        "            optimizer_C.zero_grad()\n",
        "            loss_C.backward()\n",
        "            optimizer_C.step()\n",
        "\n",
        "            # Weight clipping for Lipschitz constraint\n",
        "            for p in critic.parameters():\n",
        "                p.data.clamp_(-clip_value, clip_value)\n",
        "\n",
        "        # === Train Generator === #\n",
        "        z = torch.randn(b_size, z_dim, device=device)\n",
        "        gen_imgs = generator(z)\n",
        "        loss_G = -torch.mean(critic(gen_imgs))\n",
        "\n",
        "        optimizer_G.zero_grad()\n",
        "        loss_G.backward()\n",
        "        optimizer_G.step()\n",
        "\n",
        "        if i % 100 == 0:\n",
        "            print(f\"[Epoch {epoch}/{epochs}] [Batch {i}/{len(dataloader)}] \"\n",
        "                  f\"[Critic: {loss_C.item():.4f}] [Gen: {loss_G.item():.4f}]\")\n",
        "\n",
        "    # Save samples every epoch\n",
        "    generator.eval()\n",
        "    with torch.no_grad():\n",
        "        z = torch.randn(64, z_dim, device=device)\n",
        "        samples = generator(z)\n",
        "        samples = samples * 0.5 + 0.5  # Denormalize\n",
        "        save_image(samples, f\"wgan_dcgan/epoch_{epoch}.png\", nrow=8)\n",
        "    generator.train()"
      ],
      "metadata": {
        "colab": {
          "base_uri": "https://localhost:8080/"
        },
        "id": "bU1oQeCbu9GY",
        "outputId": "7245223c-8909-4d9d-b8ba-6bde9c375ab1"
      },
      "execution_count": 7,
      "outputs": [
        {
          "output_type": "stream",
          "name": "stdout",
          "text": [
            "[Epoch 1/20] [Batch 0/469] [Critic: 0.0799] [Gen: 0.0181]\n",
            "[Epoch 1/20] [Batch 100/469] [Critic: -0.0095] [Gen: -0.0097]\n",
            "[Epoch 1/20] [Batch 200/469] [Critic: -0.0137] [Gen: 0.0484]\n",
            "[Epoch 1/20] [Batch 300/469] [Critic: -0.0176] [Gen: -0.0603]\n",
            "[Epoch 1/20] [Batch 400/469] [Critic: -0.0159] [Gen: 0.0166]\n",
            "[Epoch 2/20] [Batch 0/469] [Critic: -0.0392] [Gen: -0.0596]\n",
            "[Epoch 2/20] [Batch 100/469] [Critic: -0.0283] [Gen: 0.0480]\n",
            "[Epoch 2/20] [Batch 200/469] [Critic: -0.0305] [Gen: -0.0787]\n",
            "[Epoch 2/20] [Batch 300/469] [Critic: -0.0073] [Gen: 0.0591]\n",
            "[Epoch 2/20] [Batch 400/469] [Critic: -0.0311] [Gen: -0.0617]\n",
            "[Epoch 3/20] [Batch 0/469] [Critic: -0.0167] [Gen: -0.0336]\n",
            "[Epoch 3/20] [Batch 100/469] [Critic: -0.0211] [Gen: -0.0414]\n",
            "[Epoch 3/20] [Batch 200/469] [Critic: -0.0207] [Gen: 0.0936]\n",
            "[Epoch 3/20] [Batch 300/469] [Critic: -0.0264] [Gen: 0.0730]\n",
            "[Epoch 3/20] [Batch 400/469] [Critic: -0.0251] [Gen: 0.0906]\n",
            "[Epoch 4/20] [Batch 0/469] [Critic: -0.0189] [Gen: 0.0296]\n",
            "[Epoch 4/20] [Batch 100/469] [Critic: -0.0266] [Gen: 0.0144]\n",
            "[Epoch 4/20] [Batch 200/469] [Critic: -0.0170] [Gen: 0.0402]\n",
            "[Epoch 4/20] [Batch 300/469] [Critic: -0.0012] [Gen: 0.0579]\n",
            "[Epoch 4/20] [Batch 400/469] [Critic: -0.0077] [Gen: 0.0519]\n",
            "[Epoch 5/20] [Batch 0/469] [Critic: -0.0230] [Gen: -0.0166]\n",
            "[Epoch 5/20] [Batch 100/469] [Critic: -0.0120] [Gen: 0.0147]\n",
            "[Epoch 5/20] [Batch 200/469] [Critic: -0.0111] [Gen: 0.0128]\n",
            "[Epoch 5/20] [Batch 300/469] [Critic: -0.0059] [Gen: -0.0249]\n",
            "[Epoch 5/20] [Batch 400/469] [Critic: -0.0145] [Gen: 0.0538]\n",
            "[Epoch 6/20] [Batch 0/469] [Critic: -0.0187] [Gen: 0.0463]\n",
            "[Epoch 6/20] [Batch 100/469] [Critic: -0.0179] [Gen: 0.0559]\n",
            "[Epoch 6/20] [Batch 200/469] [Critic: -0.0229] [Gen: 0.0387]\n",
            "[Epoch 6/20] [Batch 300/469] [Critic: -0.0123] [Gen: 0.0667]\n",
            "[Epoch 6/20] [Batch 400/469] [Critic: -0.0131] [Gen: 0.0277]\n",
            "[Epoch 7/20] [Batch 0/469] [Critic: -0.0071] [Gen: 0.0524]\n",
            "[Epoch 7/20] [Batch 100/469] [Critic: -0.0150] [Gen: 0.0707]\n",
            "[Epoch 7/20] [Batch 200/469] [Critic: 0.0026] [Gen: 0.0292]\n",
            "[Epoch 7/20] [Batch 300/469] [Critic: -0.0069] [Gen: 0.0257]\n",
            "[Epoch 7/20] [Batch 400/469] [Critic: 0.0001] [Gen: -0.0284]\n",
            "[Epoch 8/20] [Batch 0/469] [Critic: -0.0141] [Gen: 0.0218]\n",
            "[Epoch 8/20] [Batch 100/469] [Critic: -0.0170] [Gen: 0.0429]\n",
            "[Epoch 8/20] [Batch 200/469] [Critic: -0.0155] [Gen: 0.0426]\n",
            "[Epoch 8/20] [Batch 300/469] [Critic: -0.0149] [Gen: 0.0524]\n",
            "[Epoch 8/20] [Batch 400/469] [Critic: -0.0063] [Gen: 0.0691]\n",
            "[Epoch 9/20] [Batch 0/469] [Critic: -0.0198] [Gen: 0.0006]\n",
            "[Epoch 9/20] [Batch 100/469] [Critic: -0.0082] [Gen: 0.0279]\n",
            "[Epoch 9/20] [Batch 200/469] [Critic: -0.0128] [Gen: 0.0273]\n",
            "[Epoch 9/20] [Batch 300/469] [Critic: -0.0067] [Gen: 0.0715]\n",
            "[Epoch 9/20] [Batch 400/469] [Critic: -0.0125] [Gen: 0.0614]\n",
            "[Epoch 10/20] [Batch 0/469] [Critic: -0.0066] [Gen: 0.0131]\n",
            "[Epoch 10/20] [Batch 100/469] [Critic: -0.0084] [Gen: 0.0758]\n",
            "[Epoch 10/20] [Batch 200/469] [Critic: -0.0097] [Gen: 0.0317]\n",
            "[Epoch 10/20] [Batch 300/469] [Critic: -0.0067] [Gen: 0.0328]\n",
            "[Epoch 10/20] [Batch 400/469] [Critic: -0.0045] [Gen: 0.0595]\n",
            "[Epoch 11/20] [Batch 0/469] [Critic: -0.0072] [Gen: 0.0328]\n",
            "[Epoch 11/20] [Batch 100/469] [Critic: -0.0081] [Gen: -0.0037]\n",
            "[Epoch 11/20] [Batch 200/469] [Critic: -0.0091] [Gen: 0.0627]\n",
            "[Epoch 11/20] [Batch 300/469] [Critic: -0.0061] [Gen: 0.0183]\n",
            "[Epoch 11/20] [Batch 400/469] [Critic: -0.0068] [Gen: -0.0044]\n",
            "[Epoch 12/20] [Batch 0/469] [Critic: -0.0097] [Gen: 0.0581]\n",
            "[Epoch 12/20] [Batch 100/469] [Critic: -0.0051] [Gen: -0.0428]\n",
            "[Epoch 12/20] [Batch 200/469] [Critic: -0.0056] [Gen: -0.0010]\n",
            "[Epoch 12/20] [Batch 300/469] [Critic: -0.0077] [Gen: 0.0279]\n",
            "[Epoch 12/20] [Batch 400/469] [Critic: -0.0042] [Gen: 0.0267]\n",
            "[Epoch 13/20] [Batch 0/469] [Critic: -0.0089] [Gen: 0.0026]\n",
            "[Epoch 13/20] [Batch 100/469] [Critic: -0.0071] [Gen: 0.0015]\n",
            "[Epoch 13/20] [Batch 200/469] [Critic: -0.0015] [Gen: 0.0578]\n",
            "[Epoch 13/20] [Batch 300/469] [Critic: -0.0043] [Gen: 0.0337]\n",
            "[Epoch 13/20] [Batch 400/469] [Critic: -0.0058] [Gen: -0.0115]\n",
            "[Epoch 14/20] [Batch 0/469] [Critic: 0.0059] [Gen: 0.0366]\n",
            "[Epoch 14/20] [Batch 100/469] [Critic: 0.0013] [Gen: 0.0398]\n",
            "[Epoch 14/20] [Batch 200/469] [Critic: -0.0063] [Gen: -0.0121]\n",
            "[Epoch 14/20] [Batch 300/469] [Critic: -0.0133] [Gen: 0.0018]\n",
            "[Epoch 14/20] [Batch 400/469] [Critic: -0.0062] [Gen: 0.0125]\n",
            "[Epoch 15/20] [Batch 0/469] [Critic: -0.0054] [Gen: 0.0497]\n",
            "[Epoch 15/20] [Batch 100/469] [Critic: -0.0025] [Gen: -0.0261]\n",
            "[Epoch 15/20] [Batch 200/469] [Critic: -0.0077] [Gen: 0.0400]\n",
            "[Epoch 15/20] [Batch 300/469] [Critic: -0.0087] [Gen: 0.0272]\n",
            "[Epoch 15/20] [Batch 400/469] [Critic: -0.0076] [Gen: 0.0427]\n",
            "[Epoch 16/20] [Batch 0/469] [Critic: -0.0103] [Gen: 0.0428]\n",
            "[Epoch 16/20] [Batch 100/469] [Critic: -0.0036] [Gen: 0.0521]\n",
            "[Epoch 16/20] [Batch 200/469] [Critic: -0.0011] [Gen: -0.0056]\n",
            "[Epoch 16/20] [Batch 300/469] [Critic: -0.0067] [Gen: 0.0480]\n",
            "[Epoch 16/20] [Batch 400/469] [Critic: -0.0040] [Gen: 0.0020]\n",
            "[Epoch 17/20] [Batch 0/469] [Critic: -0.0044] [Gen: 0.0521]\n",
            "[Epoch 17/20] [Batch 100/469] [Critic: -0.0091] [Gen: -0.0055]\n",
            "[Epoch 17/20] [Batch 200/469] [Critic: -0.0084] [Gen: 0.0017]\n",
            "[Epoch 17/20] [Batch 300/469] [Critic: -0.0009] [Gen: 0.0355]\n",
            "[Epoch 17/20] [Batch 400/469] [Critic: -0.0038] [Gen: 0.0267]\n",
            "[Epoch 18/20] [Batch 0/469] [Critic: 0.0013] [Gen: 0.0596]\n",
            "[Epoch 18/20] [Batch 100/469] [Critic: -0.0099] [Gen: 0.0069]\n",
            "[Epoch 18/20] [Batch 200/469] [Critic: -0.0067] [Gen: -0.0359]\n",
            "[Epoch 18/20] [Batch 300/469] [Critic: -0.0086] [Gen: 0.0536]\n",
            "[Epoch 18/20] [Batch 400/469] [Critic: -0.0091] [Gen: 0.0359]\n",
            "[Epoch 19/20] [Batch 0/469] [Critic: -0.0012] [Gen: -0.0319]\n",
            "[Epoch 19/20] [Batch 100/469] [Critic: 0.0030] [Gen: 0.0268]\n",
            "[Epoch 19/20] [Batch 200/469] [Critic: -0.0067] [Gen: 0.0280]\n",
            "[Epoch 19/20] [Batch 300/469] [Critic: -0.0060] [Gen: 0.0148]\n",
            "[Epoch 19/20] [Batch 400/469] [Critic: -0.0090] [Gen: 0.0157]\n",
            "[Epoch 20/20] [Batch 0/469] [Critic: -0.0049] [Gen: 0.0029]\n",
            "[Epoch 20/20] [Batch 100/469] [Critic: 0.0171] [Gen: 0.0196]\n",
            "[Epoch 20/20] [Batch 200/469] [Critic: -0.0110] [Gen: 0.0411]\n",
            "[Epoch 20/20] [Batch 300/469] [Critic: -0.0059] [Gen: 0.0015]\n",
            "[Epoch 20/20] [Batch 400/469] [Critic: -0.0094] [Gen: 0.0678]\n"
          ]
        }
      ]
    },
    {
      "cell_type": "code",
      "execution_count": 7,
      "metadata": {
        "id": "IqJS1m5yu8TK"
      },
      "outputs": [],
      "source": []
    }
  ]
}